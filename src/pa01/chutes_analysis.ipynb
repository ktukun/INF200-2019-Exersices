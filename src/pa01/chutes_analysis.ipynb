{
 "cells": [
  {
   "cell_type": "markdown",
   "metadata": {},
   "source": [
    "# Chute analysis\n",
    "### By Martin Sanderøy and Kristin Tukun\n",
    "#### Email martsand@nmbu.no and ktukun@nmbu.no"
   ]
  },
  {
   "cell_type": "markdown",
   "metadata": {
    "pycharm": {
     "is_executing": false,
     "name": "#%%\n"
    }
   },
   "source": [
    "# -*- coding: utf-8 -*-\n",
    "\"\"\"\n",
    "Created on Thu Oct 17 12:47:14 2019\n",
    "\n",
    "@author: Martin Sanderøy and Kristin Tuku\n",
    "\"\"\""
   ]
  },
  {
   "cell_type": "code",
   "execution_count": null,
   "metadata": {
    "pycharm": {
     "is_executing": true,
     "name": "#%%\n"
    }
   },
   "outputs": [],
   "source": [
    "from snakes_and_ladders import multi_game_experiment\n",
    "import pandas as pd\n",
    "\n",
    "df_1_player = pd.DataFrame(multi_game_experiment(10000, 1, 1))\n",
    "df_2_players = pd.DataFrame(multi_game_experiment(10000, 2, 1))\n",
    "df_4_players = pd.DataFrame(multi_game_experiment(10000, 4, 1))\n",
    "df_8_players = pd.DataFrame(multi_game_experiment(10000, 8, 1))"
   ]
  },
  {
   "cell_type": "code",
   "execution_count": null,
   "metadata": {
    "pycharm": {
     "is_executing": true
    }
   },
   "outputs": [],
   "source": [
    "import matplotlib.pyplot as plt\n",
    "\n",
    "df_1_player.plot.hist(bins = 100, rwidth = 0.9, color = '#000000', histtype = 'step', \n",
    "              title = 'Histogram of turns to win for one player')\n",
    "\n",
    "df_2_players.plot.hist(bins = 100, rwidth = 0.9, color = '#000000', histtype = 'step', \n",
    "              title = 'Histogram of turns to win for two players')\n",
    "\n",
    "df_4_players.plot.hist(bins = 100, rwidth = 0.9, color = '#000000', histtype = 'step', \n",
    "              title = 'Histogram of turns to win for four players')\n",
    "\n",
    "df_8_players.plot.hist(bins = 100, rwidth = 0.9, color = '#000000', histtype = 'step', \n",
    "              title = 'Histogram of turns to win for eight players')\n",
    "\n",
    "plt.show()"
   ]
  },
  {
   "cell_type": "code",
   "execution_count": null,
   "metadata": {
    "pycharm": {
     "is_executing": true
    }
   },
   "outputs": [],
   "source": []
  },
  {
   "cell_type": "code",
   "execution_count": null,
   "metadata": {
    "collapsed": true,
    "pycharm": {
     "is_executing": true
    }
   },
   "outputs": [],
   "source": []
  }
 ],
 "metadata": {
  "kernelspec": {
   "display_name": "Python 3",
   "language": "python",
   "name": "python3"
  },
  "language_info": {
   "codemirror_mode": {
    "name": "ipython",
    "version": 3
   },
   "file_extension": ".py",
   "mimetype": "text/x-python",
   "name": "python",
   "nbconvert_exporter": "python",
   "pygments_lexer": "ipython3",
   "version": "3.7.3"
  },
  "pycharm": {
   "stem_cell": {
    "cell_type": "raw",
    "source": [],
    "metadata": {
     "collapsed": false
    }
   }
  }
 },
 "nbformat": 4,
 "nbformat_minor": 1
}