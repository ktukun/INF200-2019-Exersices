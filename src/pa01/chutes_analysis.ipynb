{
 "cells": [
  {
   "cell_type": "markdown",
   "source": [
    "# Chute analysis\n",
    "### By Martin Sanderøy and Kristin Tukun\n",
    "#### Email martsand@nmbu.no and ktukun@nmbu.no"
   ],
   "metadata": {
    "collapsed": false
   }
  },
  {
   "cell_type": "code",
   "execution_count": 12,
   "outputs": [],
   "source": [
    "# -*- coding: utf-8 -*-\n",
    "\"\"\"\n",
    "Created on Thu Oct 17 12:47:14 2019\n",
    "\n",
    "@author: Martin Sanderøy and Kristin Tukun\n",
    "@email: martsand@nmbu.no and ktukun@nmbu.no\n",
    "\"\"\"\n",
    "from random import randint\n",
    "import random\n",
    "from statistics import median, mean\n",
    "\n",
    "\n",
    "def single_game(num_players):\n",
    "    \"\"\"\n",
    "    Returns duration of single game.\n",
    "\n",
    "    Arguments\n",
    "    ---------\n",
    "    num_players : int\n",
    "        Number of players in the game\n",
    "\n",
    "    Returns\n",
    "    -------\n",
    "    num_moves : int\n",
    "        Number of moves the winning player needed to reach the goal\n",
    "    \"\"\"\n",
    "    snakes_ladders = {1: 40,\n",
    "                      8: 10,\n",
    "                      36: 52,\n",
    "                      43: 62,\n",
    "                      49: 79,\n",
    "                      65: 82,\n",
    "                      68: 85,\n",
    "                      24: 5,\n",
    "                      33: 3,\n",
    "                      42: 30,\n",
    "                      56: 37,\n",
    "                      64: 27,\n",
    "                      74: 12,\n",
    "                      87: 70, }\n",
    "\n",
    "    pos_player = [0] * num_players\n",
    "    num_moves = 0\n",
    "\n",
    "    while max(pos_player) <= 90:\n",
    "\n",
    "        for player, position in enumerate(pos_player):\n",
    "            pos_player[player] = position + randint(1, 6)\n",
    "            num_moves = num_moves + 1\n",
    "            if snakes_ladders.get(position) is not None:\n",
    "                pos_player[player] = snakes_ladders[position]\n",
    "\n",
    "    return num_moves\n",
    "\n",
    "\n",
    "def multiple_games(num_games, num_players):\n",
    "    \"\"\"\n",
    "    Returns durations of a number of games.\n",
    "\n",
    "    Arguments\n",
    "    ---------\n",
    "    num_games : int\n",
    "        Number of games to play\n",
    "    num_players : int\n",
    "        Number of players in the game\n",
    "\n",
    "    Returns\n",
    "    -------\n",
    "    num_moves : list\n",
    "        List with the number of moves needed in each game.\n",
    "    \"\"\"\n",
    "    num_moves = [0] * num_games\n",
    "    for game in range(num_games):\n",
    "\n",
    "        num_moves[game] = single_game(num_players)\n",
    "\n",
    "    return num_moves\n",
    "\n",
    "\n",
    "def multi_game_experiment(num_games, num_players, seed):\n",
    "    \"\"\"\n",
    "    Returns durations of a number of games when playing with given seed.\n",
    "\n",
    "    Arguments\n",
    "    ---------\n",
    "    num_games : int\n",
    "        Number of games to play\n",
    "    num_players : int\n",
    "        Number of players in the game\n",
    "    seed : int\n",
    "        Seed used to initialise the random number generator\n",
    "\n",
    "    Returns\n",
    "    -------\n",
    "    num_moves : list\n",
    "        List with the number of moves needed in each game.\n",
    "    \"\"\"\n",
    "    random.seed(seed)\n",
    "\n",
    "    return multiple_games(num_games, num_players)\n"
   ],
   "metadata": {
    "collapsed": false,
    "pycharm": {
     "name": "#%%\n",
     "is_executing": false
    }
   }
  },
  {
   "cell_type": "code",
   "execution_count": 13,
   "outputs": [
    {
     "data": {
      "text/plain": "<matplotlib.axes._subplots.AxesSubplot at 0x23259e28828>"
     },
     "metadata": {},
     "output_type": "execute_result",
     "execution_count": 13
    }
   ],
   "source": [
    "#from snakes_and_ladders import multi_game_experiment\n",
    "import pandas as pd\n",
    "df1 = pd.DataFrame(multi_game_experiment(1000, 1, 1))\n",
    "df2 = pd.DataFrame(multi_game_experiment(1000, 2, 1))\n",
    "df4 = pd.DataFrame(multi_game_experiment(1000, 4, 1))\n",
    "df8 = pd.DataFrame(multi_game_experiment(1000, 8, 1))\n",
    "\n",
    "df1.plot.hist(bins = 10, rwidth = 0.9, color = '#00bbc2')\n",
    "df2.plot.hist(bins = 10, rwidth = 0.9, color = '#00bbc2')\n",
    "df4.plot.hist(bins = 10, rwidth = 0.9, color = '#00bbc2')\n",
    "df8.plot.hist(bins = 10, rwidth = 0.9, color = '#00bbc2')\n"
   ],
   "metadata": {
    "collapsed": false,
    "pycharm": {
     "name": "#%%\n",
     "is_executing": false
    }
   }
  }
 ],
 "metadata": {
  "language_info": {
   "codemirror_mode": {
    "name": "ipython",
    "version": 2
   },
   "file_extension": ".py",
   "mimetype": "text/x-python",
   "name": "python",
   "nbconvert_exporter": "python",
   "pygments_lexer": "ipython2",
   "version": "2.7.6"
  },
  "kernelspec": {
   "name": "python3",
   "language": "python",
   "display_name": "Python 3"
  },
  "pycharm": {
   "stem_cell": {
    "cell_type": "raw",
    "source": [],
    "metadata": {
     "collapsed": false
    }
   }
  }
 },
 "nbformat": 4,
 "nbformat_minor": 0
}